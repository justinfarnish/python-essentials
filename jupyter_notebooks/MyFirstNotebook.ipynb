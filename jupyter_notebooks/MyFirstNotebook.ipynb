{
 "cells": [
  {
   "cell_type": "code",
   "execution_count": 9,
   "id": "d52aeacf",
   "metadata": {},
   "outputs": [
    {
     "name": "stdout",
     "output_type": "stream",
     "text": [
      "Hello, Wheez\n"
     ]
    }
   ],
   "source": [
    "print(\"Hello, Wheez\")"
   ]
  }
 ],
 "metadata": {
  "interpreter": {
   "hash": "e62caa793129cd02608c4f9abe2ece331c7f13b52ed2b6181c170f8e9308b730"
  },
  "kernelspec": {
   "display_name": "Python 3.10.0 64-bit ('3.10.0': pyenv)",
   "name": "python3"
  },
  "language_info": {
   "codemirror_mode": {
    "name": "ipython",
    "version": 3
   },
   "file_extension": ".py",
   "mimetype": "text/x-python",
   "name": "python",
   "nbconvert_exporter": "python",
   "pygments_lexer": "ipython3",
   "version": "3.10.0"
  }
 },
 "nbformat": 4,
 "nbformat_minor": 5
}
